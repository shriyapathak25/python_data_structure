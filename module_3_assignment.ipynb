{
  "nbformat": 4,
  "nbformat_minor": 0,
  "metadata": {
    "colab": {
      "provenance": []
    },
    "kernelspec": {
      "name": "python3",
      "display_name": "Python 3"
    },
    "language_info": {
      "name": "python"
    }
  },
  "cells": [
    {
      "cell_type": "markdown",
      "source": [
        "**Answer 1** data structures organize and store data in a way that we can fetch later. they are essential for solving problems\n"
      ],
      "metadata": {
        "id": "l9-9aLaTya2G"
      }
    },
    {
      "cell_type": "markdown",
      "source": [
        "***Answer 2 *** - mutable: Can be changed. lists and dictionaries are example\n",
        "- immutable: Can't be changed. tuples and strings are example\n"
      ],
      "metadata": {
        "id": "PoL45mc7yx4g"
      }
    },
    {
      "cell_type": "markdown",
      "source": [
        "**answer 3** - lists: ordered, mutable, and can be changed\n",
        "- tuples: rdered, immutable, and can't be changed\n"
      ],
      "metadata": {
        "id": "i3zG-dx7zJ5m"
      }
    },
    {
      "cell_type": "markdown",
      "source": [
        "**answer 4** - dictionaries store data as key-value pairs\n",
        "- allowing fast lookups and efficient data retrieval.\n"
      ],
      "metadata": {
        "id": "1s5XEdUfzUfU"
      }
    },
    {
      "cell_type": "markdown",
      "source": [
        "***answer 5 ***\n",
        "- need unique elements\n",
        "- need fast membership testing\n",
        "- you don't care about order"
      ],
      "metadata": {
        "id": "LGvSpL7Zzos6"
      }
    },
    {
      "cell_type": "markdown",
      "source": [
        "**answer 6**\n",
        "- a string is a sequence of characters\n",
        "- like \"hello\".\n",
        "-it's different from a list because strings are immutable."
      ],
      "metadata": {
        "id": "llwi9Nax0Bok"
      }
    },
    {
      "cell_type": "markdown",
      "source": [
        "**answer 7**\n",
        "- tuples ensure data integrity by being immutable means their contents can not be changed after creation\n"
      ],
      "metadata": {
        "id": "CmpDrybd0m8c"
      }
    },
    {
      "cell_type": "markdown",
      "source": [
        "**answer 8**\n",
        "- a hash table is a data structure that stores key-value pairs\n",
        "- in Python dictionaries use hash tables to store data, allowing for fast lookups.\n"
      ],
      "metadata": {
        "id": "7vukXnGd0376"
      }
    },
    {
      "cell_type": "markdown",
      "source": [
        "answer 9\n",
        "- yes, lists can contain different data types, such as strings, integers, and floats.\n"
      ],
      "metadata": {
        "id": "RhaLbY6C1Fm-"
      }
    },
    {
      "cell_type": "markdown",
      "source": [
        "**answer 10**\n",
        "- efficient memory usage\n",
        "- thread safety\n",
        "- faster string operations\n"
      ],
      "metadata": {
        "id": "S9L7VTNz1NUe"
      }
    },
    {
      "cell_type": "markdown",
      "source": [
        "**answer 11**\n",
        "- faster lookups\n",
        "- efficient data retrieval\n",
        "- key-value pair storage"
      ],
      "metadata": {
        "id": "Due_AW3Y19uo"
      }
    },
    {
      "cell_type": "markdown",
      "source": [
        "**answer 12**\n",
        "- data shouldn't be changed\n",
        "- immutable data is required\n",
        "- memory efficiency is key\n",
        "\n"
      ],
      "metadata": {
        "id": "gv0mswqy5GSN"
      }
    },
    {
      "cell_type": "markdown",
      "source": [
        "**answer 13**\n",
        "sets automatically remove duplicate values.\n",
        "\n"
      ],
      "metadata": {
        "id": "nExaPTeQ5MEl"
      }
    },
    {
      "cell_type": "markdown",
      "source": [
        "**answer 14**\n",
        "- in lists, \"in\" checks for existence of a value.\n",
        "- in dictionaries, \"in\" checks for existence of a key.\n"
      ],
      "metadata": {
        "id": "7R0Mhv_H5XFq"
      }
    },
    {
      "cell_type": "markdown",
      "source": [
        "**answer 15** no, tuple elements can not be modified because tuples are immutable"
      ],
      "metadata": {
        "id": "xY91tNtP5iM0"
      }
    },
    {
      "cell_type": "markdown",
      "source": [
        "**answer 16** a nested dictionary is a dictionary containing other dictionaries. example:\n",
        "\n",
        "students = {\n",
        "'shriya': {'age': 20, 'grade': 'A'},\n",
        "'jenifer': {'age': 21, 'grade': 'B'}\n",
        "}\n"
      ],
      "metadata": {
        "id": "jWbo1eEq5ybd"
      }
    },
    {
      "cell_type": "markdown",
      "source": [
        "**answer 17** accessing elements in a dictionary has an average time complexity of O(1), making it efficient"
      ],
      "metadata": {
        "id": "_YT81DIp50jT"
      }
    },
    {
      "cell_type": "markdown",
      "source": [
        "**answer 18**\n",
        "- data needs to be ordered\n",
        "- index-based access is required\n",
        "- data is homogeneous\n"
      ],
      "metadata": {
        "id": "xXAv8qvC52su"
      }
    },
    {
      "cell_type": "markdown",
      "source": [
        "**answer 19**\n",
        "- keys are hashed, making order unpredictable\n",
        "- data retrieval is key-based, not index-based\n"
      ],
      "metadata": {
        "id": "MyCqbgVL55FH"
      }
    },
    {
      "cell_type": "markdown",
      "source": [
        "**answer 20**\n",
        "- lists: index-based access, ordered\n",
        "- dictionaries: key-based access, unordered"
      ],
      "metadata": {
        "id": "sRiYkGVb58E2"
      }
    },
    {
      "cell_type": "markdown",
      "source": [
        "# **Practical Questions**"
      ],
      "metadata": {
        "id": "gYBtlHId694c"
      }
    },
    {
      "cell_type": "code",
      "source": [
        "# answer 1\n",
        "name = \"shriya\"\n",
        "print(name)\n"
      ],
      "metadata": {
        "colab": {
          "base_uri": "https://localhost:8080/"
        },
        "id": "1SIwxHOf7J9K",
        "outputId": "63502fc8-626f-43e8-8fb9-739722909746"
      },
      "execution_count": 1,
      "outputs": [
        {
          "output_type": "stream",
          "name": "stdout",
          "text": [
            "shriya\n"
          ]
        }
      ]
    },
    {
      "cell_type": "code",
      "source": [
        "# answer 2\n",
        "string = \"Hello World\"\n",
        "length = len(string)\n",
        "print(length)"
      ],
      "metadata": {
        "colab": {
          "base_uri": "https://localhost:8080/"
        },
        "id": "0LUxvmls7eej",
        "outputId": "d605f9e1-14cc-4109-83b9-b8cba1915fb3"
      },
      "execution_count": 3,
      "outputs": [
        {
          "output_type": "stream",
          "name": "stdout",
          "text": [
            "11\n"
          ]
        }
      ]
    },
    {
      "cell_type": "code",
      "source": [
        "# answer 3\n",
        "string = \"Python Programming\"\n",
        "sliced_string = string[:3]\n",
        "print(sliced_string)\n"
      ],
      "metadata": {
        "colab": {
          "base_uri": "https://localhost:8080/"
        },
        "id": "zkE3RJRV7q4x",
        "outputId": "3c5192c3-74e1-4bbe-b3c1-b30dc3206294"
      },
      "execution_count": 4,
      "outputs": [
        {
          "output_type": "stream",
          "name": "stdout",
          "text": [
            "Pyt\n"
          ]
        }
      ]
    },
    {
      "cell_type": "code",
      "source": [
        "# answer 4\n",
        "string = \"hello\"\n",
        "uppercase_string = string.upper()\n",
        "print(uppercase_string)\n"
      ],
      "metadata": {
        "colab": {
          "base_uri": "https://localhost:8080/"
        },
        "id": "ZK07-oBa71m1",
        "outputId": "a4420f0c-ec7a-4393-e2ea-2f023c0259ac"
      },
      "execution_count": 5,
      "outputs": [
        {
          "output_type": "stream",
          "name": "stdout",
          "text": [
            "HELLO\n"
          ]
        }
      ]
    },
    {
      "cell_type": "code",
      "source": [
        "# answer 5\n",
        "string = \"I am a girl\"\n",
        "replaced_string = string.replace(\"girl\", \"boy\")\n",
        "print(replaced_string)\n"
      ],
      "metadata": {
        "colab": {
          "base_uri": "https://localhost:8080/"
        },
        "id": "JviwbGS478y6",
        "outputId": "d33513f2-5f74-42f8-fc52-38fbcb927178"
      },
      "execution_count": 7,
      "outputs": [
        {
          "output_type": "stream",
          "name": "stdout",
          "text": [
            "I am a boy\n"
          ]
        }
      ]
    },
    {
      "cell_type": "code",
      "source": [
        "# answer 6\n",
        "numbers = [1, 2, 3, 4, 5]\n",
        "print(numbers)"
      ],
      "metadata": {
        "colab": {
          "base_uri": "https://localhost:8080/"
        },
        "id": "fCAHsZLP7_5-",
        "outputId": "855e9de7-0911-470d-c950-f710946252c9"
      },
      "execution_count": 8,
      "outputs": [
        {
          "output_type": "stream",
          "name": "stdout",
          "text": [
            "[1, 2, 3, 4, 5]\n"
          ]
        }
      ]
    },
    {
      "cell_type": "code",
      "source": [
        "# answer 7\n",
        "numbers = [1, 2, 3, 4]\n",
        "numbers.append(10)\n",
        "print(numbers)"
      ],
      "metadata": {
        "colab": {
          "base_uri": "https://localhost:8080/"
        },
        "id": "y0PkJ4I18Zi1",
        "outputId": "9e4ef299-1704-4dd8-eb8d-dc8b31ed38d0"
      },
      "execution_count": 13,
      "outputs": [
        {
          "output_type": "stream",
          "name": "stdout",
          "text": [
            "[1, 2, 3, 4, 10]\n"
          ]
        }
      ]
    },
    {
      "cell_type": "code",
      "source": [
        "# answer 8\n",
        "numbers = [1, 2, 3, 4, 5]\n",
        "numbers.remove(3)\n",
        "print(numbers)"
      ],
      "metadata": {
        "colab": {
          "base_uri": "https://localhost:8080/"
        },
        "id": "eoFWSyH28gH-",
        "outputId": "31701963-4282-4172-fc56-0e78b172ba40"
      },
      "execution_count": 12,
      "outputs": [
        {
          "output_type": "stream",
          "name": "stdout",
          "text": [
            "[1, 2, 4, 5]\n"
          ]
        }
      ]
    },
    {
      "cell_type": "code",
      "source": [
        "# answer 9\n",
        "letters = ['a', 'b', 'c', 'd']\n",
        "second_element = letters[1]\n",
        "print(second_element)"
      ],
      "metadata": {
        "colab": {
          "base_uri": "https://localhost:8080/"
        },
        "id": "JG1yPngR8oor",
        "outputId": "a07a017d-6722-4736-ca9d-a3ee9e83bd05"
      },
      "execution_count": 11,
      "outputs": [
        {
          "output_type": "stream",
          "name": "stdout",
          "text": [
            "b\n"
          ]
        }
      ]
    },
    {
      "cell_type": "code",
      "source": [
        "# answer 10\n",
        "numbers = [10, 20, 30, 40, 50]\n",
        "numbers.reverse()\n",
        "print(numbers)"
      ],
      "metadata": {
        "colab": {
          "base_uri": "https://localhost:8080/"
        },
        "id": "6H6y4QU380Ts",
        "outputId": "ab4508f2-85f3-46ac-d362-cfdc08092883"
      },
      "execution_count": 14,
      "outputs": [
        {
          "output_type": "stream",
          "name": "stdout",
          "text": [
            "[50, 40, 30, 20, 10]\n"
          ]
        }
      ]
    },
    {
      "cell_type": "code",
      "source": [
        "# answer 11\n",
        "numbers = (10, 20, 30)\n",
        "print(numbers)"
      ],
      "metadata": {
        "colab": {
          "base_uri": "https://localhost:8080/"
        },
        "id": "1ZbDkaXi88IH",
        "outputId": "4c61eae5-3658-428f-fee9-7f8cc55ca256"
      },
      "execution_count": 15,
      "outputs": [
        {
          "output_type": "stream",
          "name": "stdout",
          "text": [
            "(10, 20, 30)\n"
          ]
        }
      ]
    },
    {
      "cell_type": "code",
      "source": [
        "# answer 12\n",
        "fruits = ('apple', 'banana', 'cherry')\n",
        "first_element = fruits[0]\n",
        "print(first_element)"
      ],
      "metadata": {
        "colab": {
          "base_uri": "https://localhost:8080/"
        },
        "id": "aRFBX5ij9fP1",
        "outputId": "0ce49726-f49f-44b1-9de8-f65fdb86df23"
      },
      "execution_count": 16,
      "outputs": [
        {
          "output_type": "stream",
          "name": "stdout",
          "text": [
            "apple\n"
          ]
        }
      ]
    },
    {
      "cell_type": "code",
      "source": [
        "# answer 13\n",
        "numbers = (1, 2, 3, 2, 4, 2)\n",
        "count = numbers.count(2)\n",
        "print(count)"
      ],
      "metadata": {
        "colab": {
          "base_uri": "https://localhost:8080/"
        },
        "id": "BLRN4yzI9jYc",
        "outputId": "4e0ee2bb-851e-4e9e-f97b-037d11c07ed4"
      },
      "execution_count": 17,
      "outputs": [
        {
          "output_type": "stream",
          "name": "stdout",
          "text": [
            "3\n"
          ]
        }
      ]
    },
    {
      "cell_type": "code",
      "source": [
        "# answer 14\n",
        "animals = ('dog', 'cat', 'rabbit')\n",
        "index = animals.index('cat')\n",
        "print(index)"
      ],
      "metadata": {
        "colab": {
          "base_uri": "https://localhost:8080/"
        },
        "id": "z8rIDyIw9pgO",
        "outputId": "f8a474d2-eb38-4456-9dfa-5275d076bd55"
      },
      "execution_count": 18,
      "outputs": [
        {
          "output_type": "stream",
          "name": "stdout",
          "text": [
            "1\n"
          ]
        }
      ]
    },
    {
      "cell_type": "code",
      "source": [
        "# answer 15\n",
        "fruits = ('apple', 'orange', 'banana')\n",
        "exists = 'banana' in fruits\n",
        "print(exists)"
      ],
      "metadata": {
        "colab": {
          "base_uri": "https://localhost:8080/"
        },
        "id": "YuWgauHK9uzg",
        "outputId": "e75810c4-7c9b-413f-a838-bbe8782d3f0b"
      },
      "execution_count": 19,
      "outputs": [
        {
          "output_type": "stream",
          "name": "stdout",
          "text": [
            "True\n"
          ]
        }
      ]
    },
    {
      "cell_type": "code",
      "source": [
        "# answer 16\n",
        "numbers = {1, 2, 3, 4, 5}\n",
        "print(numbers)"
      ],
      "metadata": {
        "colab": {
          "base_uri": "https://localhost:8080/"
        },
        "id": "qmP4r6s59y6T",
        "outputId": "7302a49e-1053-4ee6-962f-954bdf92195a"
      },
      "execution_count": 20,
      "outputs": [
        {
          "output_type": "stream",
          "name": "stdout",
          "text": [
            "{1, 2, 3, 4, 5}\n"
          ]
        }
      ]
    },
    {
      "cell_type": "code",
      "source": [
        "# answer 17\n",
        "numbers = {1, 2, 3, 4}\n",
        "numbers.add(6)\n",
        "print(numbers)"
      ],
      "metadata": {
        "colab": {
          "base_uri": "https://localhost:8080/"
        },
        "id": "b_d06Hs698SD",
        "outputId": "b8cb49ca-df5c-4edb-c41e-350a53a80a4f"
      },
      "execution_count": 21,
      "outputs": [
        {
          "output_type": "stream",
          "name": "stdout",
          "text": [
            "{1, 2, 3, 4, 6}\n"
          ]
        }
      ]
    },
    {
      "cell_type": "code",
      "source": [
        "# answer 18\n",
        "numbers = (10, 20, 30)\n",
        "print(numbers)"
      ],
      "metadata": {
        "colab": {
          "base_uri": "https://localhost:8080/"
        },
        "id": "mWBJGFIu-AvH",
        "outputId": "4fd6f3dc-8d15-4830-a2c0-b2769445093f"
      },
      "execution_count": 22,
      "outputs": [
        {
          "output_type": "stream",
          "name": "stdout",
          "text": [
            "(10, 20, 30)\n"
          ]
        }
      ]
    },
    {
      "cell_type": "code",
      "source": [
        "# answer 19\n",
        "fruits = ('apple', 'banana', 'cherry')\n",
        "first_element = fruits[0]\n",
        "print(first_element)"
      ],
      "metadata": {
        "colab": {
          "base_uri": "https://localhost:8080/"
        },
        "id": "SkVI_kWU-GpI",
        "outputId": "3ae628c5-6c39-44a5-97a6-5f1c366ab488"
      },
      "execution_count": 23,
      "outputs": [
        {
          "output_type": "stream",
          "name": "stdout",
          "text": [
            "apple\n"
          ]
        }
      ]
    },
    {
      "cell_type": "code",
      "source": [
        "# answer 20\n",
        "numbers = (1, 2, 3, 2, 4, 2)\n",
        "count = numbers.count(2)\n",
        "print(count)"
      ],
      "metadata": {
        "colab": {
          "base_uri": "https://localhost:8080/"
        },
        "id": "0NYg9lXd-LIJ",
        "outputId": "add71e82-534a-4280-a767-984820a96db4"
      },
      "execution_count": 24,
      "outputs": [
        {
          "output_type": "stream",
          "name": "stdout",
          "text": [
            "3\n"
          ]
        }
      ]
    },
    {
      "cell_type": "code",
      "source": [
        "# answer 21\n",
        "animals = ('dog', 'cat', 'rabbit')\n",
        "index = animals.index('cat')\n",
        "print(index)"
      ],
      "metadata": {
        "colab": {
          "base_uri": "https://localhost:8080/"
        },
        "id": "5hXf9BYf-PQf",
        "outputId": "7a4a653b-e754-4e25-a5fa-f1ddff71cfdc"
      },
      "execution_count": 25,
      "outputs": [
        {
          "output_type": "stream",
          "name": "stdout",
          "text": [
            "1\n"
          ]
        }
      ]
    },
    {
      "cell_type": "code",
      "source": [
        "# answer 22\n",
        "fruits = ('apple', 'orange', 'banana')\n",
        "exists = 'banana' in fruits\n",
        "print(exists)"
      ],
      "metadata": {
        "colab": {
          "base_uri": "https://localhost:8080/"
        },
        "id": "0YgYdTjJ-YkY",
        "outputId": "b72987af-cc15-4ab7-8994-974fb56e4501"
      },
      "execution_count": 26,
      "outputs": [
        {
          "output_type": "stream",
          "name": "stdout",
          "text": [
            "True\n"
          ]
        }
      ]
    },
    {
      "cell_type": "code",
      "source": [
        "# answer 23\n",
        "numbers = {1, 2, 3, 4, 5}\n",
        "print(numbers)"
      ],
      "metadata": {
        "colab": {
          "base_uri": "https://localhost:8080/"
        },
        "id": "kzuhmQ8V-dGc",
        "outputId": "99e13985-f04c-4cbd-abbd-3cdcc4539206"
      },
      "execution_count": 27,
      "outputs": [
        {
          "output_type": "stream",
          "name": "stdout",
          "text": [
            "{1, 2, 3, 4, 5}\n"
          ]
        }
      ]
    },
    {
      "cell_type": "code",
      "source": [
        "# answer 24\n",
        "numbers = {1, 2, 3, 4}\n",
        "numbers.add(6)\n",
        "print(numbers)"
      ],
      "metadata": {
        "colab": {
          "base_uri": "https://localhost:8080/"
        },
        "id": "lv47W3M0-h6a",
        "outputId": "b5071c5a-8f16-458b-b04f-03e026933f96"
      },
      "execution_count": 28,
      "outputs": [
        {
          "output_type": "stream",
          "name": "stdout",
          "text": [
            "{1, 2, 3, 4, 6}\n"
          ]
        }
      ]
    }
  ]
}